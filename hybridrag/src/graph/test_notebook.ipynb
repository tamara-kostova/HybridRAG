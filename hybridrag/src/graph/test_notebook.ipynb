{
 "cells": [
  {
   "cell_type": "markdown",
   "metadata": {},
   "source": [
    "This is a test notebook for loading and splitting a few PDF documents and attempting to construct knowledge graphs from them. "
   ]
  },
  {
   "cell_type": "code",
   "execution_count": 1,
   "metadata": {},
   "outputs": [],
   "source": [
    "import pandas as pd\n",
    "import numpy as np\n",
    "import os\n",
    "from langchain_community.graphs import Neo4jGraph\n",
    "from langchain_text_splitters import RecursiveCharacterTextSplitter\n",
    "from langchain.document_loaders import PyPDFLoader"
   ]
  },
  {
   "cell_type": "markdown",
   "metadata": {},
   "source": [
    "Loading PDFs."
   ]
  },
  {
   "cell_type": "code",
   "execution_count": 3,
   "metadata": {},
   "outputs": [
    {
     "name": "stdout",
     "output_type": "stream",
     "text": [
      "Loaded 2 documents.\n"
     ]
    }
   ],
   "source": [
    "pdfs_path = './samplepdfs/'\n",
    "\n",
    "docs = []\n",
    "\n",
    "for pdf in os.listdir(pdfs_path):\n",
    "    if pdf.endswith('.pdf'):\n",
    "        pdf_path = os.path.join(pdfs_path,pdf)\n",
    "        loader = PyPDFLoader(pdf_path)\n",
    "        docs.append(\n",
    "            loader.load()\n",
    "        )\n",
    "    else:\n",
    "        raise ValueError('Document is not a pdf')\n",
    "    \n",
    "print(f\"Loaded {len(docs)} documents.\")\n"
   ]
  },
  {
   "cell_type": "markdown",
   "metadata": {},
   "source": [
    "Splitting into chunks."
   ]
  },
  {
   "cell_type": "code",
   "execution_count": 4,
   "metadata": {},
   "outputs": [
    {
     "name": "stdout",
     "output_type": "stream",
     "text": [
      "Generated 219 chunks.\n"
     ]
    }
   ],
   "source": [
    "text_splitter = RecursiveCharacterTextSplitter(\n",
    "    chunk_size=300,  \n",
    "    chunk_overlap=100 \n",
    ")\n",
    "split_docs = []\n",
    "for doc in docs:\n",
    "    for page in doc:\n",
    "        chunks = text_splitter.split_text(page.page_content)\n",
    "        split_docs.extend(chunks)\n",
    "\n",
    "print(f\"Generated {len(split_docs)} chunks.\")"
   ]
  },
  {
   "cell_type": "code",
   "execution_count": null,
   "metadata": {},
   "outputs": [],
   "source": []
  }
 ],
 "metadata": {
  "kernelspec": {
   "display_name": "hybridrag-2HQsKqUh-py3.12",
   "language": "python",
   "name": "python3"
  },
  "language_info": {
   "codemirror_mode": {
    "name": "ipython",
    "version": 3
   },
   "file_extension": ".py",
   "mimetype": "text/x-python",
   "name": "python",
   "nbconvert_exporter": "python",
   "pygments_lexer": "ipython3",
   "version": "3.12.4"
  }
 },
 "nbformat": 4,
 "nbformat_minor": 2
}
